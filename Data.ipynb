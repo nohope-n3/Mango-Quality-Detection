{
 "cells": [
  {
   "cell_type": "code",
   "execution_count": 1,
   "metadata": {},
   "outputs": [],
   "source": [
    "import os\n",
    "from PIL import Image\n",
    "import numpy as np"
   ]
  },
  {
   "cell_type": "code",
   "execution_count": 21,
   "metadata": {},
   "outputs": [],
   "source": [
    "input_path = \"../Data/Original/Yellow/Bad/\"\n",
    "output_path = \"../Tmp\""
   ]
  },
  {
   "cell_type": "code",
   "execution_count": 25,
   "metadata": {},
   "outputs": [],
   "source": [
    "count = 1\n",
    "degree = 0\n",
    "for filename in os.listdir(input_path):\n",
    "    if filename.endswith(\".jpg\") or filename.endswith(\".png\"):\n",
    "        image_path = os.path.join(input_path, filename)\n",
    "        image = Image.open(image_path)\n",
    "\n",
    "        rotated = image.rotate(degree)\n",
    "\n",
    "        if degree == 0:\n",
    "            rotated_path = os.path.join(output_path, str(count) + \".jpg\")\n",
    "            count = count + 1\n",
    "        else:\n",
    "            rotated_path = os.path.join(output_path, filename[:-4] + \"_\" + str(degree) + \".jpg\")\n",
    "        \n",
    "\n",
    "        rotated.save(rotated_path)\n"
   ]
  },
  {
   "cell_type": "code",
   "execution_count": 26,
   "metadata": {},
   "outputs": [],
   "source": [
    "input_path = output_path\n",
    "for filename in os.listdir(input_path):\n",
    "    if filename.endswith(\".jpg\") or filename.endswith(\".png\"):\n",
    "        image_path = os.path.join(input_path, filename)\n",
    "        image = Image.open(image_path)\n",
    "\n",
    "        flipud_img = image.transpose(Image.FLIP_TOP_BOTTOM)\n",
    "        fliplr_img = image.transpose(Image.FLIP_LEFT_RIGHT)\n",
    "\n",
    "        fliplr_path = os.path.join(output_path, filename[:-4] + \"_flr\" + \".jpg\")\n",
    "        fliplr_img.save(fliplr_path)\n",
    "\n",
    "        flipud_path = os.path.join(output_path, filename[:-4] + \"_fud\" + \".jpg\")\n",
    "        flipud_img.save(flipud_path)"
   ]
  }
 ],
 "metadata": {
  "kernelspec": {
   "display_name": "Python 3",
   "language": "python",
   "name": "python3"
  },
  "language_info": {
   "codemirror_mode": {
    "name": "ipython",
    "version": 3
   },
   "file_extension": ".py",
   "mimetype": "text/x-python",
   "name": "python",
   "nbconvert_exporter": "python",
   "pygments_lexer": "ipython3",
   "version": "3.10.10"
  },
  "orig_nbformat": 4,
  "vscode": {
   "interpreter": {
    "hash": "5fcab4219ca791ff4e8dd846a3beb939e9e25ee1cc5f4feb13fc93f11b9b8d77"
   }
  }
 },
 "nbformat": 4,
 "nbformat_minor": 2
}
